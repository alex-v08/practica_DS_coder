{
 "cells": [
  {
   "cell_type": "code",
   "execution_count": null,
   "id": "171b2011",
   "metadata": {},
   "outputs": [],
   "source": [
    "import numpy as np\n",
    "from numpy import genfromtxt"
   ]
  },
  {
   "cell_type": "markdown",
   "id": "00c197c4",
   "metadata": {},
   "source": [
    "En este link se provee un archivo con los resultados de la Encuesta de Sueldos de Openqube de Febrero 2020 (https://sueldos.openqube.io/encuesta-sueldos-2020.02/ ), Calcular y comparar media y mediana de los sueldos netos."
   ]
  },
  {
   "cell_type": "markdown",
   "id": "b94d8f59",
   "metadata": {},
   "source": [
    " Cargo archivo csv solo de la columna sueldos netos\n"
   ]
  },
  {
   "cell_type": "code",
   "execution_count": 60,
   "id": "3c3c19d0",
   "metadata": {},
   "outputs": [],
   "source": [
    "array1 = np.genfromtxt(\"sueldo_netos.csv\", delimiter=\",\")"
   ]
  },
  {
   "cell_type": "markdown",
   "id": "03d8e7cc",
   "metadata": {},
   "source": [
    "Limpieza de Arreglo\n"
   ]
  },
  {
   "cell_type": "code",
   "execution_count": 61,
   "id": "441029eb",
   "metadata": {},
   "outputs": [],
   "source": [
    "nan_array = np.isnan(array1)"
   ]
  },
  {
   "cell_type": "code",
   "execution_count": 62,
   "id": "7b323afb",
   "metadata": {},
   "outputs": [],
   "source": [
    "not_nan_array = ~ nan_array"
   ]
  },
  {
   "cell_type": "code",
   "execution_count": 63,
   "id": "c490aaad",
   "metadata": {},
   "outputs": [],
   "source": [
    "datos = array1[not_nan_array]"
   ]
  },
  {
   "cell_type": "code",
   "execution_count": 65,
   "id": "3dcf4d93",
   "metadata": {
    "scrolled": true
   },
   "outputs": [
    {
     "data": {
      "text/plain": [
       "array([4.3000e+04, 6.3000e+04, 1.2700e+05, ..., 4.5753e+01, 7.2000e+01,\n",
       "       6.5000e+04])"
      ]
     },
     "execution_count": 65,
     "metadata": {},
     "output_type": "execute_result"
    }
   ],
   "source": [
    "datos"
   ]
  },
  {
   "cell_type": "code",
   "execution_count": 69,
   "id": "72bb58d4",
   "metadata": {},
   "outputs": [
    {
     "data": {
      "text/plain": [
       "119639309130.34601"
      ]
     },
     "execution_count": 69,
     "metadata": {},
     "output_type": "execute_result"
    }
   ],
   "source": [
    "datos.sum()"
   ]
  },
  {
   "cell_type": "code",
   "execution_count": 71,
   "id": "09891d33",
   "metadata": {},
   "outputs": [
    {
     "data": {
      "text/plain": [
       "19306004.37798064"
      ]
     },
     "execution_count": 71,
     "metadata": {},
     "output_type": "execute_result"
    }
   ],
   "source": [
    "datos.mean()"
   ]
  },
  {
   "cell_type": "code",
   "execution_count": 72,
   "id": "eb9988d1",
   "metadata": {},
   "outputs": [
    {
     "data": {
      "text/plain": [
       "76000.0"
      ]
     },
     "execution_count": 72,
     "metadata": {},
     "output_type": "execute_result"
    }
   ],
   "source": [
    "np.median(datos)"
   ]
  },
  {
   "cell_type": "code",
   "execution_count": null,
   "id": "5cfbaa81",
   "metadata": {},
   "outputs": [],
   "source": []
  }
 ],
 "metadata": {
  "kernelspec": {
   "display_name": "Python 3 (ipykernel)",
   "language": "python",
   "name": "python3"
  },
  "language_info": {
   "codemirror_mode": {
    "name": "ipython",
    "version": 3
   },
   "file_extension": ".py",
   "mimetype": "text/x-python",
   "name": "python",
   "nbconvert_exporter": "python",
   "pygments_lexer": "ipython3",
   "version": "3.9.7"
  }
 },
 "nbformat": 4,
 "nbformat_minor": 5
}
