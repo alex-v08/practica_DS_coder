{
 "cells": [
  {
   "cell_type": "markdown",
   "id": "62009f6c",
   "metadata": {},
   "source": [
    " Ejercicio 1: escribir una funcion para calcular el factorial de un nro cualquiera"
   ]
  },
  {
   "cell_type": "code",
   "execution_count": 61,
   "id": "c6d974b3",
   "metadata": {},
   "outputs": [],
   "source": [
    "\n",
    "def fcFactorial(x):\n",
    "    complemento = 1\n",
    "    while (x!=0)and(x!=1): \n",
    "        complemento = complemento * (x)\n",
    "        x-=1\n",
    "\n",
    "   \n",
    "    return complemento"
   ]
  },
  {
   "cell_type": "code",
   "execution_count": 64,
   "id": "60f5f623",
   "metadata": {
    "scrolled": true
   },
   "outputs": [
    {
     "name": "stdout",
     "output_type": "stream",
     "text": [
      "6\n",
      "5\n",
      "4\n",
      "3\n",
      "2\n",
      "1\n"
     ]
    },
    {
     "data": {
      "text/plain": [
       "5040"
      ]
     },
     "execution_count": 64,
     "metadata": {},
     "output_type": "execute_result"
    }
   ],
   "source": [
    "fcFactorial(7)"
   ]
  },
  {
   "cell_type": "markdown",
   "id": "13806391",
   "metadata": {},
   "source": [
    " Ejercicio 2: escribir una funcion para calcular la suma de una serie comenzando \n",
    " por un numero cualquiera y terminando por otro numero que debe ser mayor al primero\n",
    " (uso while)"
   ]
  },
  {
   "cell_type": "code",
   "execution_count": 4,
   "id": "0824b135",
   "metadata": {},
   "outputs": [],
   "source": [
    "\n",
    "def sumaSerie(val_x,val_y):\n",
    "    lista =[]\n",
    "   \n",
    "    while (val_x<val_y):\n",
    "        lista.append(val_x)\n",
    "        val_x += 1\n",
    "    return sum(lista)"
   ]
  },
  {
   "cell_type": "code",
   "execution_count": 14,
   "id": "6887a932",
   "metadata": {},
   "outputs": [
    {
     "data": {
      "text/plain": [
       "0"
      ]
     },
     "execution_count": 14,
     "metadata": {},
     "output_type": "execute_result"
    }
   ],
   "source": [
    "sumaSerie(9,4)"
   ]
  },
  {
   "cell_type": "code",
   "execution_count": 17,
   "id": "1d30d23f",
   "metadata": {},
   "outputs": [
    {
     "data": {
      "text/plain": [
       "55"
      ]
     },
     "execution_count": 17,
     "metadata": {},
     "output_type": "execute_result"
    }
   ],
   "source": [
    "sumaSerie(2,10)"
   ]
  },
  {
   "cell_type": "code",
   "execution_count": 16,
   "id": "5ea5db76",
   "metadata": {},
   "outputs": [],
   "source": [
    "# Ejercicio 2: escribir una funcion para calcular la suma de una serie comenzando \n",
    "# por un numero cualquiera y terminando por otro numero que debe ser mayor al primero\n",
    "# (rehago usando for)\n",
    "def sumaSerie(val_x,val_y):\n",
    "    lista =[]\n",
    "    i=val_x\n",
    "    for i in range (val_y + 1) :\n",
    "            lista.append(i)\n",
    "\n",
    "             \n",
    "    return sum(lista)"
   ]
  },
  {
   "cell_type": "code",
   "execution_count": 46,
   "id": "32f1d023",
   "metadata": {},
   "outputs": [],
   "source": [
    "sumaSerie(2,1)"
   ]
  },
  {
   "cell_type": "code",
   "execution_count": 52,
   "id": "7f500a68",
   "metadata": {},
   "outputs": [
    {
     "data": {
      "text/plain": [
       "[0, 1, 2, 3, 4]"
      ]
     },
     "execution_count": 52,
     "metadata": {},
     "output_type": "execute_result"
    }
   ],
   "source": [
    "sumaserie(1,4)"
   ]
  },
  {
   "cell_type": "code",
   "execution_count": null,
   "id": "cc845a15",
   "metadata": {},
   "outputs": [],
   "source": []
  }
 ],
 "metadata": {
  "kernelspec": {
   "display_name": "Python 3 (ipykernel)",
   "language": "python",
   "name": "python3"
  },
  "language_info": {
   "codemirror_mode": {
    "name": "ipython",
    "version": 3
   },
   "file_extension": ".py",
   "mimetype": "text/x-python",
   "name": "python",
   "nbconvert_exporter": "python",
   "pygments_lexer": "ipython3",
   "version": "3.9.7"
  }
 },
 "nbformat": 4,
 "nbformat_minor": 5
}
